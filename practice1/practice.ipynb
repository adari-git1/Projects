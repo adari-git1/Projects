{
 "cells": [
  {
   "cell_type": "markdown",
   "id": "6e1e4ec5-176d-4d91-8ecf-f4303d5fed60",
   "metadata": {},
   "source": [
    "odd or even\n"
   ]
  },
  {
   "cell_type": "code",
   "execution_count": 1,
   "id": "3bd86e3c-259f-4b32-aae5-a5a76f09e440",
   "metadata": {},
   "outputs": [
    {
     "name": "stdin",
     "output_type": "stream",
     "text": [
      " 5\n"
     ]
    },
    {
     "name": "stdout",
     "output_type": "stream",
     "text": [
      "odd\n"
     ]
    }
   ],
   "source": [
    "n=int(input())\n",
    "if n%2==0:\n",
    "    print(\"Even\")\n",
    "else:\n",
    "    print(\"odd\")"
   ]
  },
  {
   "cell_type": "code",
   "execution_count": 3,
   "id": "42fc9054-219c-47d1-acc6-0c750519ae31",
   "metadata": {},
   "outputs": [
    {
     "name": "stdin",
     "output_type": "stream",
     "text": [
      " 0\n"
     ]
    },
    {
     "name": "stdout",
     "output_type": "stream",
     "text": [
      "Zero\n"
     ]
    }
   ],
   "source": [
    "n=int(input())\n",
    "if n%2==0 and n!=0:\n",
    "    print(\"Positive\")\n",
    "elif n%2==1:\n",
    "    print(\"Negative\")\n",
    "else:\n",
    "    print(\"Zero\")"
   ]
  },
  {
   "cell_type": "code",
   "execution_count": 21,
   "id": "4ecb733b-f76e-489e-bb74-36b87cb86169",
   "metadata": {},
   "outputs": [
    {
     "name": "stdin",
     "output_type": "stream",
     "text": [
      " 2020\n"
     ]
    },
    {
     "name": "stdout",
     "output_type": "stream",
     "text": [
      "leap year\n"
     ]
    }
   ],
   "source": [
    "n=int(input())\n",
    "if n%4==0 and n%100!=0 or( n%400==0):\n",
    "        print(\"leap year\")\n",
    "else:\n",
    "    print(\"not a leap year\")\n",
    "    \n",
    "    "
   ]
  },
  {
   "cell_type": "code",
   "execution_count": 26,
   "id": "4e31a193-5dc0-4e50-a09f-d61043ee6212",
   "metadata": {},
   "outputs": [
    {
     "name": "stdin",
     "output_type": "stream",
     "text": [
      " 3\n",
      " 6\n",
      " 9\n"
     ]
    },
    {
     "name": "stdout",
     "output_type": "stream",
     "text": [
      "9\n"
     ]
    }
   ],
   "source": [
    "l=[]\n",
    "for i in range(3):\n",
    "    a=int(input())\n",
    "    l.append(a)\n",
    "#print(max(l))\n",
    "max=0\n",
    "for i in range(len(l)):\n",
    "    if l[i]>max:\n",
    "        max=l[i]\n",
    "print(max)\n",
    "    "
   ]
  },
  {
   "cell_type": "code",
   "execution_count": 29,
   "id": "ce5da8b1-3c73-48f2-bd37-f6b7b812028a",
   "metadata": {},
   "outputs": [
    {
     "name": "stdin",
     "output_type": "stream",
     "text": [
      " 23\n"
     ]
    },
    {
     "name": "stdout",
     "output_type": "stream",
     "text": [
      "D\n"
     ]
    }
   ],
   "source": [
    "grade=int(input())\n",
    "if 90<=grade<=100:\n",
    "    print(\"A\")\n",
    "elif 80<=grade<=89:\n",
    "    print(\"B\")\n",
    "elif 70<=grade<=79:\n",
    "    print(\"C\")\n",
    "elif 60<=grade<=69:\n",
    "    print(\"D\")\n",
    "else:\n",
    "    print(\"F\")\n",
    "    "
   ]
  },
  {
   "cell_type": "code",
   "execution_count": 34,
   "id": "6cb7ed29-5ff5-4865-9627-701b0d9a4769",
   "metadata": {},
   "outputs": [
    {
     "name": "stdin",
     "output_type": "stream",
     "text": [
      " g\n"
     ]
    },
    {
     "name": "stdout",
     "output_type": "stream",
     "text": [
      "Constant\n"
     ]
    }
   ],
   "source": [
    "s=input()\n",
    "l=['a','e', 'i', 'o', 'u']\n",
    "if s in l:\n",
    "    print(\"Vowel\")\n",
    "else:\n",
    "    print(\"Constant\")"
   ]
  },
  {
   "cell_type": "code",
   "execution_count": 36,
   "id": "25b62c59-8c9d-4a19-b302-0fcd2dbda6f2",
   "metadata": {},
   "outputs": [
    {
     "name": "stdin",
     "output_type": "stream",
     "text": [
      " 4\n",
      " 1\n",
      " 9\n"
     ]
    },
    {
     "name": "stdout",
     "output_type": "stream",
     "text": [
      "In RAnge\n"
     ]
    }
   ],
   "source": [
    "num=int(input())\n",
    "start=int(input())\n",
    "end=int(input())\n",
    "if num in range(start,end):\n",
    "    print(\"In Range\")\n",
    "else:\n",
    "    print(\"Out of Range\")\n"
   ]
  },
  {
   "cell_type": "code",
   "execution_count": 38,
   "id": "a1470741-8d51-4a4d-8bff-f998a4282918",
   "metadata": {},
   "outputs": [
    {
     "name": "stdin",
     "output_type": "stream",
     "text": [
      " 6\n",
      " 3\n"
     ]
    },
    {
     "name": "stdout",
     "output_type": "stream",
     "text": [
      "Evenly divisible\n"
     ]
    }
   ],
   "source": [
    "num1=int(input())\n",
    "num2=int(input())\n",
    "if num1%num2==0:\n",
    "    print(\"Evenly divisible\")\n",
    "else:\n",
    "    print(\"the remainder is\",num1%num2)"
   ]
  },
  {
   "cell_type": "code",
   "execution_count": 39,
   "id": "4775c3cc-dcc9-4dcd-8f47-c28b1e010f4a",
   "metadata": {},
   "outputs": [
    {
     "name": "stdin",
     "output_type": "stream",
     "text": [
      " 45\n"
     ]
    },
    {
     "name": "stdout",
     "output_type": "stream",
     "text": [
      "you can vote\n"
     ]
    }
   ],
   "source": [
    "age=int(input())\n",
    "if age>=18:\n",
    "    print(\"you can vote\")\n",
    "else:\n",
    "    print(\"you cant vote\")"
   ]
  },
  {
   "cell_type": "code",
   "execution_count": null,
   "id": "94493ce9-bc0f-4660-b965-3dea3fdf24cb",
   "metadata": {},
   "outputs": [],
   "source": [
    "l=list(map(int,input().split()))\n",
    "min=0\n",
    "for i in range(len(l)):\n",
    "    if l[i]>min:\n",
    "        max=l[i]\n",
    "print(max)"
   ]
  },
  {
   "cell_type": "code",
   "execution_count": 43,
   "id": "061ae221-c9e4-4d66-a131-bcae1335a13e",
   "metadata": {},
   "outputs": [
    {
     "name": "stdin",
     "output_type": "stream",
     "text": [
      " 1 2 3 4\n"
     ]
    }
   ],
   "source": [
    "l=list(map(int,input().split()))"
   ]
  },
  {
   "cell_type": "code",
   "execution_count": null,
   "id": "04e1b6d1-215a-412c-9da2-6246abbbd7bc",
   "metadata": {},
   "outputs": [],
   "source": []
  }
 ],
 "metadata": {
  "kernelspec": {
   "display_name": "Python 3 (ipykernel)",
   "language": "python",
   "name": "python3"
  },
  "language_info": {
   "codemirror_mode": {
    "name": "ipython",
    "version": 3
   },
   "file_extension": ".py",
   "mimetype": "text/x-python",
   "name": "python",
   "nbconvert_exporter": "python",
   "pygments_lexer": "ipython3",
   "version": "3.12.6"
  }
 },
 "nbformat": 4,
 "nbformat_minor": 5
}
